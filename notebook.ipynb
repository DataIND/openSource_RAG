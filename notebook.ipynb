{
 "cells": [
  {
   "cell_type": "code",
   "execution_count": 1,
   "metadata": {},
   "outputs": [
    {
     "name": "stdout",
     "output_type": "stream",
     "text": [
      "Hello Rag\n"
     ]
    }
   ],
   "source": [
    "print(\"Hello Rag\")"
   ]
  },
  {
   "cell_type": "code",
   "execution_count": 2,
   "metadata": {},
   "outputs": [],
   "source": [
    "import os\n",
    "from dotenv import load_dotenv\n",
    "\n",
    "load_dotenv()\n",
    "\n",
    "OPENAI_API_KEY = os.getenv(\"OPENAI_API_KEY\")\n",
    "MODEL = \"llama2\"\n"
   ]
  },
  {
   "cell_type": "code",
   "execution_count": 9,
   "metadata": {},
   "outputs": [
    {
     "name": "stderr",
     "output_type": "stream",
     "text": [
      "C:\\Users\\AKASH JADHAV\\AppData\\Local\\Temp\\ipykernel_12184\\1550016297.py:12: LangChainDeprecationWarning: The class `OllamaEmbeddings` was deprecated in LangChain 0.3.1 and will be removed in 1.0.0. An updated version of the class exists in the :class:`~langchain-ollama package and should be used instead. To use it run `pip install -U :class:`~langchain-ollama` and import as `from :class:`~langchain_ollama import OllamaEmbeddings``.\n",
      "  embeddings = OllamaEmbeddings()\n"
     ]
    },
    {
     "data": {
      "text/plain": [
       "\"\\nWhy don't scientists trust atoms? Because they make up everything! 😂\""
      ]
     },
     "execution_count": 9,
     "metadata": {},
     "output_type": "execute_result"
    }
   ],
   "source": [
    "from langchain_openai.chat_models import ChatOpenAI\n",
    "from langchain_openai.embeddings import OpenAIEmbeddings\n",
    "from langchain_community.llms import Ollama\n",
    "from langchain_community.embeddings import OllamaEmbeddings\n",
    "\n",
    "\n",
    "if MODEL.startswith(\"gpt\"):\n",
    "    model = ChatOpenAI(api_key=OPENAI_API_KEY,model=MODEL)\n",
    "    embeddings = OpenAIEmbeddings()\n",
    "else:\n",
    "    model = Ollama(model=MODEL)\n",
    "    embeddings = OllamaEmbeddings()\n",
    "\n",
    "\n",
    "model.invoke(\"Tell me a joke\")\n"
   ]
  },
  {
   "cell_type": "code",
   "execution_count": 5,
   "metadata": {},
   "outputs": [
    {
     "data": {
      "text/plain": [
       "'Why was the math book sad?\\n\\nBecause it had too many problems!'"
      ]
     },
     "execution_count": 5,
     "metadata": {},
     "output_type": "execute_result"
    }
   ],
   "source": [
    "from langchain_core.output_parsers import StrOutputParser\n",
    "\n",
    "parser = StrOutputParser()\n",
    "\n",
    "chain = model | parser\n",
    "\n",
    "chain.invoke(\"Tell me a joke\")"
   ]
  },
  {
   "cell_type": "code",
   "execution_count": 6,
   "metadata": {},
   "outputs": [
    {
     "data": {
      "text/plain": [
       "[Document(metadata={'producer': 'FPDF 1.81', 'creator': 'PyPDF', 'creationdate': 'D:20200917124537', 'source': 'indian_culture.pdf', 'total_pages': 9, 'page': 0, 'page_label': '1'}, page_content='Indian Culture\\nNotes\\n 9Indian Culture and Heritage Secondary Course\\nMODULE - I\\nUnderstanding\\nCulture\\n2\\nINDIAN CULTURE\\nH\\nave you ever thought of the amazing progress we, as human beings, have made in\\nvarious spheres of life, be it language, literature, art and architecture, science or\\nreligion? Have you ever wondered how all this has been possible? This happened\\nbecause, we did not have to make a fresh beginning each time, but were able to make use\\nof and build on the work of past generations. You have never had to bother about having\\nto make your own script or creating a new language system for yourself. These are already\\ngiven to you which you enjoy as a member of society. Then you build on it by making your\\ncontribution or addition which further becomes an asset for the coming generations. This is\\na continuous and never-ending process. It is a precious possession unique to human beings\\nand is known as culture. Culture is a way of life. You, your family has a culture and so does\\nyour region and your country. You may be curious to know about the uniqueness of Indian\\nculture and find out its distinct characteristics. In this unit we will understand how Indian\\nculture is unique and what are its characteristics.\\n OBJECTIVES\\nAfter reading this lesson you will be able to:\\n\\uf0b7 describe the distinctive features of Indian culture;\\n\\uf0b7 identify the central points and uniqueness of Indian culture;\\n\\uf0b7 discuss the importance of spirituality in Indian culture;\\n\\uf0b7 explain  the points of diversity and underlying unity in it; and\\n\\uf0b7 trace the process of infusion into and integration of elements from other cultures\\nin Indian culture.'),\n",
       " Document(metadata={'producer': 'FPDF 1.81', 'creator': 'PyPDF', 'creationdate': 'D:20200917124537', 'source': 'indian_culture.pdf', 'total_pages': 9, 'page': 1, 'page_label': '2'}, page_content='Indian Culture\\nNotes\\nIndian Culture and Heritage Secondary Course 10\\nMODULE - I\\nUnderstanding\\nCulture\\n 2.1 CHARACTERISTICS OF INDIAN CULTURE\\nIndian culture is as many sided as life. It includes intellectual and social aspects of any\\nhuman being. It also takes account of the aesthetic instinct as well as the spiritual impulses\\nof human being. It has also, in effect, an appeal to the subconscious as a force making for\\nthe formation of character.\\nLook at the map of India and you see India is a vast country with a lot of diversity in her\\nphysical and social environment. We see people around us speaking different languages,\\nhaving different religions and practising different rituals. You can also see these diversities\\nin their food habits and dress patterns. Besides, look at the myriad forms of dance and\\nmusic in our country. But within all these diversities there is an underlying unity which acts\\nas a cementing force. The intermingling of people has been steadily taking place in India\\nover centuries. A number of people of different racial stock, ethnic backgrounds and\\nreligious beliefs have settled down here. Let us not forget that the composite and dynamic\\ncharacter of Indian culture is a result of the rich contributions of all these diverse cultural\\ngroups over a long period of time. The distinctive features of Indian culture and its uniqueness\\nare the precious possession of all Indians.\\n 2.1.1 Continuity and Change\\nMany great cultures had developed in different countries and regions of the world. Many\\nof them have perished or have been replaced by other cultures. However Indian culture\\nhas had an enduring character. Despite major changes and upheavals significant threads of\\ncontinuity can be traced throughout the course of Indian history right upto the present day.\\nYou may have read about the Harappan civilization which flourished in the Indian\\nsubcontinent over 4500 years ago. Archaeologists have found evidences to show that\\ncultures existed here even before the matured phase of the Harappan civilization. This tells\\nus that we have a very long history behind us. And yet what is amazing is that even today\\nthe pattern of a house in an Indian village is not very different from that of a Harappan\\nhouse. Some aspects of Harappan culture are still practised, such as, the worshipping of\\nMother Goddess and Pashupati. Similarly, Vedic, Buddhist, Jain and many other traditions\\ncontinue to be followed even today. At the same time one should not lose sight of the\\nchanges as are evident in the multistoried buildings in the metropolitan cities like Mumbai\\nand Delhi, quite unlike the Harappan houses that had only one storey. The point to be\\nnoted here is that continuity and change in our civilization has gone hand in hand. In fact, a\\nremarkable feature of Indian culture is that along with continuity it has kept on changing,\\nwhereas the basic spirit of our culture continued. It has kept on discarding what was\\nbecoming irrelevant in the modern age. In our long history, there have been periods of ups\\nand downs. As a result, movements have grown and reforms brought about. The reform\\nmovements in the Vedic religion brought about by Jainism and Buddhism in sixth century\\nBC and the religious and social awakening in the eighteenth and nineteenth centuries in'),\n",
       " Document(metadata={'producer': 'FPDF 1.81', 'creator': 'PyPDF', 'creationdate': 'D:20200917124537', 'source': 'indian_culture.pdf', 'total_pages': 9, 'page': 2, 'page_label': '3'}, page_content='Indian Culture\\nNotes\\n 11Indian Culture and Heritage Secondary Course\\nMODULE - I\\nUnderstanding\\nCulturemodern India are a few examples when revolutionary changes were brought about in\\nIndian thought and practices. Yet the thread of basic philosophy of Indian culture continued\\nand still persists. Thus a process of continuity and change has always been a feature of\\nIndian culture. This shows the dynamic character of our culture.\\n 2.1.2 Variety and Unity\\nIndian culture, over the last three mellenia, has successfully, but quietly, observed\\nthe best assimilable parts from other religions and cultures, from time to time and\\nintegated them into itself.\\nIndeed few cultures in the world have such variety as the Indian culture. You may perhaps\\nwonder why the people of Kerala use coconut oil while the people of Uttar Pradesh use\\nmustard oil for cooking. This is because Kerala is a coastal state and coconut grows here\\nin plenty. While Uttar Pradesh is a plain area which is favourable for the growth of mustard.\\nWhat is the similarity in the Bhangra dance of Punjab or the Pongal of Tamil Nadu or the\\nBihu dance of Assam? Both are celebrated after a rich harvest of crops. Have you noticed\\nthe different languages that we speak like Bengali, Tamil, Gujarati or Oriya? India is the\\nhome of many forms of dance and music which we normally use for festivals and social\\nfunctions like marriages or the birth of a child.\\nA large number of languages and dialects are spoken in our country which has led to the\\ngrowth of a great variety of literature. People belonging to eight great religions of the world\\nco-exist here in a harmonious manner. Do you know that India is home to many religions\\nof the world like Jainism, Buddhism, Sikhism and of course Hinduism. Numerous styles of\\narchitecture, sculpture and painting have developed here. Different styles of music and\\ndance, both folk and classical, exist in the country. So also are numerous festivals and\\ncustoms. This wide variety has led to the making of Indian culture both composite one and\\nrich and beautiful at the same time. Why is there so much variety in our culture? There are\\nmany reasons for this. The vastness of the country and variation in its physical and climatic\\nfeatures is an obvious reason for the variety.\\nThe second important reason for the variety in our culture is the intermingling among various\\nethnic groups. Since time immemorial, people from far and near have been coming and\\nsettling here. We find people belonging to different racial stocks like the Proto-Australoids,\\nthe Negroids and the Mongoloids living in India. Various ethnic groups like Iranians, Greeks,\\nKushanas, Shakas, Hunas, Arabs, Turks, Mughals and Europeans also came to India,\\nsettled here and intermixed with the local population. The people belonging to other cultures\\nbrought their cultural habits, thoughts and ideas, which got amalgamated into the existing\\nculture. You will be surprised to know that it was only around second century BC that\\nstitched clothes such as salwars, kurtas, topees, etc. were brought to India, by the Kushanas,\\nShakas and Parthians. Prior to that Indians wore clothes which were unstitched. The latest\\nis the introduction of shirts, trousers, skirts, etc. which were brought by the Europeans in'),\n",
       " Document(metadata={'producer': 'FPDF 1.81', 'creator': 'PyPDF', 'creationdate': 'D:20200917124537', 'source': 'indian_culture.pdf', 'total_pages': 9, 'page': 3, 'page_label': '4'}, page_content='Indian Culture\\nNotes\\nIndian Culture and Heritage Secondary Course 12\\nMODULE - I\\nUnderstanding\\nCulture\\nthe eighteenth century. India through the ages has shown a remarkable capacity for\\nassimilation of ideas. This has contributed to the variety and richness of our culture.\\nAlong with contacts with outside cultures, cultural exchange between different regions of\\nIndia has also continued. The Chikan work of Lucknow, Phulkari embrodery of Punjab,\\nKantha embroidery of Bengal, Patola of Orissa show a distinct regional flavour. Although\\nthe centres in the South, North, East and West of India have their characteristic cultures,\\nyet these did not develop in absolute isolation. Inspite of physical barriers, Indians used to\\ntravel from one part of the country to another for trade or pilgrimage. Some regions were\\njoined together through conquests or by alliance. As a result, people transmitted cultural\\nhabits and thoughts from one part of the country to the other. Military campaigns too took\\npeople from one place to another. This helped in exchanging ideas. Such contacts have led\\nto  the development of commonness in Indian culture, which has been maintained throughout\\nour history. Another unifying factor is climate. Despite geographical diversity and climatic\\nvariations India experiences an inherent unity. The system of monsoons is the most important\\ncomponent of the Indian climatic pattern and this gives unity to the whole country. The\\ncoming of the monsoon has ensured that agriculture remains the main occupation of the\\npeople of India. On the other hand the differences in physical features have affected the\\nfood habits, dress, houses and economic activities of people leading to the formation of\\nsocial, economic and political institutions. These factors in turn influenced the thinking and\\nphilosophy of the people. The variety in physical features and climate of India has thus led\\nto the development of a variety of cultures in different regions. The typical features of\\ndifferent regions have given some identity to these cultures.\\nThe composite nature of our culture is reflected in our music, dance forms, drama and art\\nforms like paintings, sculpture and architecture as well. Our literature in different languages\\nalso reflects this composite nature.\\nUnity in diversity is reflected in our political forms as well. During the early Vedic period,\\nsociety was pastoral, that is, people used to move from place to place in search of pastures.\\nBut as the these people started practising agriculture, they settled down. This settled life\\nled to community development and growth of towns which needed rules and regulations.\\nThus emerged a political organisation. This included the sabhas and samitis which were\\npolitical bodies through which people participated in governance. In course of time, the\\nconcept of rashtra emerged and possession of territory became the new measure of\\npower. In some places, republics came up. The period from sixth to fourth century BC is\\nknown as the age of mahajanapadas in India. In these kingdoms kings had more powers.\\nSubsequently large empires were also established with emperors exercising absolute powers.\\nYou may be aware of ancient rulers such as Ashoka, Samudragupta and Harshavardhana.\\nThe Mughals also established a vast empire in India. The British established themselves in\\nIndia and in l858, India became a part of the British Empire. However in 1947, we were\\nable to gain our freedom after a long struggle. Today we are a sovereign, socialist, secular\\nand democratic republic and a uniform system of government prevails over the length and\\nbreadth of the country.'),\n",
       " Document(metadata={'producer': 'FPDF 1.81', 'creator': 'PyPDF', 'creationdate': 'D:20200917124537', 'source': 'indian_culture.pdf', 'total_pages': 9, 'page': 4, 'page_label': '5'}, page_content='Indian Culture\\nNotes\\n 13Indian Culture and Heritage Secondary Course\\nMODULE - I\\nUnderstanding\\nCulture\\n INTEXT QUESTIONS 2.1\\n1. Name the state where Bhangra is a popular dance form.\\n2. What is the dance form of Assam known as?\\n3. Who brought salwars, kurtas, topees etc. to India around second century BC?\\n4. Which region is famous for Patola?\\n 2.1.3 Secular Outlook\\nThe secular character of Indian culture is a result of the intermingling of people belonging\\nto diverse cultural groups over a long period of time. There have been instances of occasional\\nconflicts here and there, but by and large, people have lived together peacefully for centuries.\\nThe popular cultural traditions of India are the best examples of such cultural synthesis in\\nwhich a large number of people belonging to different religious groups come together.\\nYou are aware that there is a great variety of thoughts and habits in our country. Among\\nsuch a variety, dominance of one particular thought is not possible. You will recall that\\nHindus, Muslims, Christians, Sikhs, Buddhists, Jains, Parsees and Jews live in India. The\\nconstitution declares India to be a secular country. Everyone is free to profess, practise\\nand propagate any religion of his/her own choice. The state has no religion of its own and\\nall religions are treated equally by the state. No one is to be discriminated on the basis of\\nreligion. The people have, to a large extent, developed a broad outlook and they believe in\\nthe concept of live and let others live.\\nRight to freedom of religion ensures secular nature of our polity. In the Western context\\ndevelopment of secularism meant complete separation of the church and the state. In India\\nsecularism is taken as a more positive concept to cope with the complex social structure in\\nthe country with a view to protecting the interests of all, particularly the minorities.\\n 2.1.4 Universalism\\nThe concept of coexistence has not been confined to the geographical and political\\nboundaries of the country only. India has a universal outlook and it has been promoting the\\nmessage of peace and harmony to the entire world. India has been raising a strong voice\\nagainst racialism and colonialism. It has protested against the formation of power blocks in\\nthe world. In fact India became one of the founder members of the non-aligned movement.\\nIndia is committed to the development of other underdeveloped nations. In this manner,\\nIndia has been discharging her responsibilities as a part of the world fraternity and has\\nbeen contributing to the progress of the world.'),\n",
       " Document(metadata={'producer': 'FPDF 1.81', 'creator': 'PyPDF', 'creationdate': 'D:20200917124537', 'source': 'indian_culture.pdf', 'total_pages': 9, 'page': 5, 'page_label': '6'}, page_content='Indian Culture\\nNotes\\nIndian Culture and Heritage Secondary Course 14\\nMODULE - I\\nUnderstanding\\nCulture\\nIt has to be remembered that the subcontinent of India has been one cultural unit\\nthroughout the ages, cutting across political boundaries.\\n 2.1.5 Materialistic and Spiritualistic\\nCulture is spiritual development of a race or nation in the field of mind, interests,\\nconduct, thought, art, skills and civilization.\\nIndia is popularly known to be a land of spirituality particularly to the West. However,\\nIndian history from ancient times to present day shows that the developments of materialistic\\nand non-materialistic culture have been going on alongside. You will recall that the Harappan\\ncivilization was an urban one. It had a systematic town planning where roads cut each\\nother at right angles. They had a profound knowledge of mathematics, weights and measures.\\nThey had built their towns in a scientific manner and had an elaborate drainage system.\\nThe Harappans had external trade and travelled across the seas to trade with the Sumerians.\\nExcellent books on medicines, planets, stars, and plants were written. Discoveries of\\ntheories-like “earth rotates around the sun” or “earth is round” were made by Indians long\\nbefore Europe accepted them. Similarly in the area of mathematics and in the field of\\nmedicine and other sciences India’s achievements in ancient times have been remarkable.\\nThere was no opposition or resistance by religious or other thoughts in pursuing such\\nknowledge.\\nIn philosophical thought even atheistic thinking developed and grew in India. You may be\\naware that Jainism and Buddhism are silent about the existence of God. What does all this\\ntell us? Indeed, that Indian culture has been both materialistic and non-materialistic or\\nspiritualistic.\\nThe culture of India is the living expression of the simplicity and profoundity of her\\npeople.\\n 2.2 CULTURAL IDENTITY, RELIGION, REGION AND\\nETHNICITY\\nOur cultural identities are based on various factors such as religion and region. As a result\\neach Indian possesses multiple identities. Which of these identities asserts itself at a certain\\npoint of time and prevails over the others, depends on the political, social or economic\\ncontext in which the person finds himself/herself. Thus each person may have some things\\nin common with another, but may be vastly different in some other aspects. For example,\\nexcept belief, forms of worship and rituals, there may be little that is common among those\\nwho follow a particular faith from the point of view of the whole country. Even in the forms\\nof worship and rituals there are sectorian and regional differences.'),\n",
       " Document(metadata={'producer': 'FPDF 1.81', 'creator': 'PyPDF', 'creationdate': 'D:20200917124537', 'source': 'indian_culture.pdf', 'total_pages': 9, 'page': 6, 'page_label': '7'}, page_content='Indian Culture\\nNotes\\n 15Indian Culture and Heritage Secondary Course\\nMODULE - I\\nUnderstanding\\nCulture\\nThus culturally, Hindus are not all similar, nor are all the Muslims. Brahmins in Tamil Nadu\\nare quite different from their counterparts in Kashmir. Similarly, Muslims in Kerala and\\nUttar Pradesh are dissimilar in several aspects of their culture. Regional identities are more\\nreal. People of different religions and jatis may have common regional cultural traits like\\nlanguage, food, dress, values and also the worldview. In Bengal, both Hindus and Muslims\\ntake pride in being Bengalis. Elsewhere one finds Hindus, Christians and Muslims sharing\\nseveral elements of regional culture.\\nIn principle, different religious groups owe their allegiance to different religious doctrines.\\nFor instance the Vedas and Shastras may be sources of inspiration for Hindus, Koran and\\nHadees for Muslims, and the Bible for Christians. However, at the level of rituals and life\\nstyles there is a lot of intermingling among followers of different religions.\\nEthnic culture is strong among the tribal groups. For example, in the small state of Nagaland,\\nthere are more than a dozen tribes and they differ from each other in their dress, speech\\nand beliefs. Bastar district of Chhattisgarh has several groups claiming different ethnic\\norigins.\\n 2.3 CULTURAL INFLUENCES\\nIn the modern context, there are at least three significant influences on our culture. They\\nare westernisation, emergent national cultural styles and popular culture.\\nBefore independence some Western modes were adopted by the aristocracy and members\\nof the civil services. The influence, over the years, has spread to the middle classes and to\\na small extent, to the villages as well. The growing demand for English medium schools in\\nthe villages is a proof of this statement.\\nDuring the struggle for freedom a new style emerged. This became a national style. For\\nexample the Gandhi cap and khadi may now be only ceremonial and a symbol, but it\\ncontributed to the unity of the country and provided commonness to culture.\\nPopular culture which is the product of mass media is another unifying factor. The impact\\nof films has been tremendous. Radio and television also reshape images and attitudes.\\nTheir hold on us is undeniable. Modern media has promoted issues that are of both traditional\\nand public interest.\\n INTEXT QUESTIONS 2.2\\n1. Give two examples of people who came to India from outside and settled here.\\n2. Which component of climate gives unity to India?\\n3. Name the civilization with which the Harappans were known to have had trade relations\\nacross the seas.'),\n",
       " Document(metadata={'producer': 'FPDF 1.81', 'creator': 'PyPDF', 'creationdate': 'D:20200917124537', 'source': 'indian_culture.pdf', 'total_pages': 9, 'page': 7, 'page_label': '8'}, page_content='Indian Culture\\nNotes\\nIndian Culture and Heritage Secondary Course 16\\nMODULE - I\\nUnderstanding\\nCulture\\n WHAT YOU HA VE LEARNT\\n\\uf0b7 The meaning of culture is very wide and comprehensive. It has been defined as a sum\\ntotal of integrated learned behaviour. It connotes a way of life of the people living in a\\nsociety.\\n\\uf0b7 Culture constitutes knowledge, belief, arts, morals, law, customs and any other\\ncapabilities and habits acquired by humans as members of society.\\n\\uf0b7 Due to its adaptability and comprehensiveness, Indian culture has survived through the\\nages.\\n\\uf0b7 Unity in diversity is one of the major characteristics of Indian culture which makes it\\nunique.\\n\\uf0b7 A synthesis of various cultures came about through the ages to give shape to what is\\nrecognised as Indian culture today.\\n\\uf0b7 Spirituality and value based life style is the core of Indian culture but it has a scientific\\ntemperament too.\\n TERMINAL EXERCISE\\n1. What are the different components of culture?\\n2. Give the meaning of material and non-material culture.\\n3. Define the secular character of Indian culture.\\n4. Describe the distinctive features of Indian culture.\\n5. Write short notes on the following:\\na. Cultural synthesis in India\\nb. Spirituality\\nc. Adapatability as a characteristic of Indian culture\\n6. Explain in detail unity in diversity in the context of Indian culture.\\n ANSWERS TO INTEXT QUESTIONS\\n2.1\\n1. Punjab'),\n",
       " Document(metadata={'producer': 'FPDF 1.81', 'creator': 'PyPDF', 'creationdate': 'D:20200917124537', 'source': 'indian_culture.pdf', 'total_pages': 9, 'page': 8, 'page_label': '9'}, page_content='Indian Culture\\nNotes\\n 17Indian Culture and Heritage Secondary Course\\nMODULE - I\\nUnderstanding\\nCulture2. Bihu\\n3. Kushans, Shakas and Parthians\\n4. Orissa\\n2.2\\n1. Kushans and Mughals\\n2. Monsoons\\n3. Sumerian')]"
      ]
     },
     "execution_count": 6,
     "metadata": {},
     "output_type": "execute_result"
    }
   ],
   "source": [
    "from langchain_community.document_loaders import PyPDFLoader\n",
    "\n",
    "loader = PyPDFLoader(\"indian_culture.pdf\")\n",
    "pages = loader.load_and_split()\n",
    "pages"
   ]
  },
  {
   "cell_type": "code",
   "execution_count": 7,
   "metadata": {},
   "outputs": [
    {
     "name": "stdout",
     "output_type": "stream",
     "text": [
      "\n",
      "Answer the question based on the context below. If you can't\n",
      "answer the question, reply \"I don't know\"ArithmeticError\n",
      "\n",
      "context: Here is some context\n",
      "\n",
      "Question: Here is a question\n",
      "\n"
     ]
    }
   ],
   "source": [
    "from langchain.prompts import PromptTemplate\n",
    "\n",
    "template = \"\"\"\n",
    "Answer the question based on the context below. If you can't\n",
    "answer the question, reply \"I don't know\"ArithmeticError\n",
    "\n",
    "context: {context}\n",
    "\n",
    "Question: {question}\n",
    "\"\"\"\n",
    "\n",
    "prompt = PromptTemplate.from_template(template)\n",
    "prompt.format(context=\"Here is some context\",question=\"Here is a question\")\n",
    "\n",
    "print(prompt.format(context=\"Here is some context\",question=\"Here is a question\"))"
   ]
  },
  {
   "cell_type": "code",
   "execution_count": 8,
   "metadata": {},
   "outputs": [],
   "source": [
    "chain = prompt | model | parser"
   ]
  },
  {
   "cell_type": "code",
   "execution_count": 11,
   "metadata": {},
   "outputs": [
    {
     "name": "stderr",
     "output_type": "stream",
     "text": [
      "d:\\ML\\LLM and GenAI\\openSource_RAG\\ragEnv\\lib\\site-packages\\pydantic\\_migration.py:283: UserWarning: `pydantic.error_wrappers:ValidationError` has been moved to `pydantic:ValidationError`.\n",
      "  warnings.warn(f'`{import_path}` has been moved to `{new_location}`.')\n"
     ]
    }
   ],
   "source": [
    "from langchain_community.vectorstores import DocArrayInMemorySearch\n",
    "vectorstore = DocArrayInMemorySearch.from_documents(pages,embedding=embeddings)\n"
   ]
  },
  {
   "cell_type": "markdown",
   "metadata": {},
   "source": []
  },
  {
   "cell_type": "code",
   "execution_count": 12,
   "metadata": {},
   "outputs": [
    {
     "data": {
      "text/plain": [
       "[Document(metadata={'producer': 'FPDF 1.81', 'creator': 'PyPDF', 'creationdate': 'D:20200917124537', 'source': 'indian_culture.pdf', 'total_pages': 9, 'page': 3, 'page_label': '4'}, page_content='Indian Culture\\nNotes\\nIndian Culture and Heritage Secondary Course 12\\nMODULE - I\\nUnderstanding\\nCulture\\nthe eighteenth century. India through the ages has shown a remarkable capacity for\\nassimilation of ideas. This has contributed to the variety and richness of our culture.\\nAlong with contacts with outside cultures, cultural exchange between different regions of\\nIndia has also continued. The Chikan work of Lucknow, Phulkari embrodery of Punjab,\\nKantha embroidery of Bengal, Patola of Orissa show a distinct regional flavour. Although\\nthe centres in the South, North, East and West of India have their characteristic cultures,\\nyet these did not develop in absolute isolation. Inspite of physical barriers, Indians used to\\ntravel from one part of the country to another for trade or pilgrimage. Some regions were\\njoined together through conquests or by alliance. As a result, people transmitted cultural\\nhabits and thoughts from one part of the country to the other. Military campaigns too took\\npeople from one place to another. This helped in exchanging ideas. Such contacts have led\\nto  the development of commonness in Indian culture, which has been maintained throughout\\nour history. Another unifying factor is climate. Despite geographical diversity and climatic\\nvariations India experiences an inherent unity. The system of monsoons is the most important\\ncomponent of the Indian climatic pattern and this gives unity to the whole country. The\\ncoming of the monsoon has ensured that agriculture remains the main occupation of the\\npeople of India. On the other hand the differences in physical features have affected the\\nfood habits, dress, houses and economic activities of people leading to the formation of\\nsocial, economic and political institutions. These factors in turn influenced the thinking and\\nphilosophy of the people. The variety in physical features and climate of India has thus led\\nto the development of a variety of cultures in different regions. The typical features of\\ndifferent regions have given some identity to these cultures.\\nThe composite nature of our culture is reflected in our music, dance forms, drama and art\\nforms like paintings, sculpture and architecture as well. Our literature in different languages\\nalso reflects this composite nature.\\nUnity in diversity is reflected in our political forms as well. During the early Vedic period,\\nsociety was pastoral, that is, people used to move from place to place in search of pastures.\\nBut as the these people started practising agriculture, they settled down. This settled life\\nled to community development and growth of towns which needed rules and regulations.\\nThus emerged a political organisation. This included the sabhas and samitis which were\\npolitical bodies through which people participated in governance. In course of time, the\\nconcept of rashtra emerged and possession of territory became the new measure of\\npower. In some places, republics came up. The period from sixth to fourth century BC is\\nknown as the age of mahajanapadas in India. In these kingdoms kings had more powers.\\nSubsequently large empires were also established with emperors exercising absolute powers.\\nYou may be aware of ancient rulers such as Ashoka, Samudragupta and Harshavardhana.\\nThe Mughals also established a vast empire in India. The British established themselves in\\nIndia and in l858, India became a part of the British Empire. However in 1947, we were\\nable to gain our freedom after a long struggle. Today we are a sovereign, socialist, secular\\nand democratic republic and a uniform system of government prevails over the length and\\nbreadth of the country.'),\n",
       " Document(metadata={'producer': 'FPDF 1.81', 'creator': 'PyPDF', 'creationdate': 'D:20200917124537', 'source': 'indian_culture.pdf', 'total_pages': 9, 'page': 8, 'page_label': '9'}, page_content='Indian Culture\\nNotes\\n 17Indian Culture and Heritage Secondary Course\\nMODULE - I\\nUnderstanding\\nCulture2. Bihu\\n3. Kushans, Shakas and Parthians\\n4. Orissa\\n2.2\\n1. Kushans and Mughals\\n2. Monsoons\\n3. Sumerian'),\n",
       " Document(metadata={'producer': 'FPDF 1.81', 'creator': 'PyPDF', 'creationdate': 'D:20200917124537', 'source': 'indian_culture.pdf', 'total_pages': 9, 'page': 5, 'page_label': '6'}, page_content='Indian Culture\\nNotes\\nIndian Culture and Heritage Secondary Course 14\\nMODULE - I\\nUnderstanding\\nCulture\\nIt has to be remembered that the subcontinent of India has been one cultural unit\\nthroughout the ages, cutting across political boundaries.\\n 2.1.5 Materialistic and Spiritualistic\\nCulture is spiritual development of a race or nation in the field of mind, interests,\\nconduct, thought, art, skills and civilization.\\nIndia is popularly known to be a land of spirituality particularly to the West. However,\\nIndian history from ancient times to present day shows that the developments of materialistic\\nand non-materialistic culture have been going on alongside. You will recall that the Harappan\\ncivilization was an urban one. It had a systematic town planning where roads cut each\\nother at right angles. They had a profound knowledge of mathematics, weights and measures.\\nThey had built their towns in a scientific manner and had an elaborate drainage system.\\nThe Harappans had external trade and travelled across the seas to trade with the Sumerians.\\nExcellent books on medicines, planets, stars, and plants were written. Discoveries of\\ntheories-like “earth rotates around the sun” or “earth is round” were made by Indians long\\nbefore Europe accepted them. Similarly in the area of mathematics and in the field of\\nmedicine and other sciences India’s achievements in ancient times have been remarkable.\\nThere was no opposition or resistance by religious or other thoughts in pursuing such\\nknowledge.\\nIn philosophical thought even atheistic thinking developed and grew in India. You may be\\naware that Jainism and Buddhism are silent about the existence of God. What does all this\\ntell us? Indeed, that Indian culture has been both materialistic and non-materialistic or\\nspiritualistic.\\nThe culture of India is the living expression of the simplicity and profoundity of her\\npeople.\\n 2.2 CULTURAL IDENTITY, RELIGION, REGION AND\\nETHNICITY\\nOur cultural identities are based on various factors such as religion and region. As a result\\neach Indian possesses multiple identities. Which of these identities asserts itself at a certain\\npoint of time and prevails over the others, depends on the political, social or economic\\ncontext in which the person finds himself/herself. Thus each person may have some things\\nin common with another, but may be vastly different in some other aspects. For example,\\nexcept belief, forms of worship and rituals, there may be little that is common among those\\nwho follow a particular faith from the point of view of the whole country. Even in the forms\\nof worship and rituals there are sectorian and regional differences.'),\n",
       " Document(metadata={'producer': 'FPDF 1.81', 'creator': 'PyPDF', 'creationdate': 'D:20200917124537', 'source': 'indian_culture.pdf', 'total_pages': 9, 'page': 7, 'page_label': '8'}, page_content='Indian Culture\\nNotes\\nIndian Culture and Heritage Secondary Course 16\\nMODULE - I\\nUnderstanding\\nCulture\\n WHAT YOU HA VE LEARNT\\n\\uf0b7 The meaning of culture is very wide and comprehensive. It has been defined as a sum\\ntotal of integrated learned behaviour. It connotes a way of life of the people living in a\\nsociety.\\n\\uf0b7 Culture constitutes knowledge, belief, arts, morals, law, customs and any other\\ncapabilities and habits acquired by humans as members of society.\\n\\uf0b7 Due to its adaptability and comprehensiveness, Indian culture has survived through the\\nages.\\n\\uf0b7 Unity in diversity is one of the major characteristics of Indian culture which makes it\\nunique.\\n\\uf0b7 A synthesis of various cultures came about through the ages to give shape to what is\\nrecognised as Indian culture today.\\n\\uf0b7 Spirituality and value based life style is the core of Indian culture but it has a scientific\\ntemperament too.\\n TERMINAL EXERCISE\\n1. What are the different components of culture?\\n2. Give the meaning of material and non-material culture.\\n3. Define the secular character of Indian culture.\\n4. Describe the distinctive features of Indian culture.\\n5. Write short notes on the following:\\na. Cultural synthesis in India\\nb. Spirituality\\nc. Adapatability as a characteristic of Indian culture\\n6. Explain in detail unity in diversity in the context of Indian culture.\\n ANSWERS TO INTEXT QUESTIONS\\n2.1\\n1. Punjab')]"
      ]
     },
     "execution_count": 12,
     "metadata": {},
     "output_type": "execute_result"
    }
   ],
   "source": [
    "retriver = vectorstore.as_retriever()\n",
    "\n",
    "retriver.invoke(\"Diversity\")"
   ]
  },
  {
   "cell_type": "code",
   "execution_count": 14,
   "metadata": {},
   "outputs": [
    {
     "data": {
      "text/plain": [
       "'India is a country with a rich and diverse culture, with multiple factors contributing to its cultural identity. Here are some of the ways in which diversity manifests in India:\\n\\n1. Religion: India is home to numerous religions, including Hinduism, Islam, Christianity, Sikhism, Buddhism, and Jainism, among others. Each religion has its own beliefs, practices, and rituals, leading to a diverse religious landscape.\\n2. Language: With over 22 official languages and numerous dialects, India is linguistically diverse. The various languages spoken in the country reflect the cultural identities of their speakers.\\n3. Region: India is divided into 29 states, each with its own unique culture. For example, the cuisine, dress, and customs of people from the southern state of Kerala differ from those of people in the northern state of Punjab.\\n4. Ethnicity: India has a diverse population in terms of ethnicity, with groups such as the Dalits (formerly known as \"untouchables\"), Adivasis (indigenous peoples), and Sahibs (people from the upper castes).\\n5. Caste: The caste system is a complex social hierarchy that divides Indians into different categories based on their occupation, ancestry, and geographical location. There are thousands of castes in India, each with its own cultural identity.\\n6. Festival: India has numerous festivals throughout the year, each with its own unique customs and traditions. For example, Diwali is celebrated by Hindus and Sikhs to mark the victory of light over darkness, while Eid-al-Fitr is celebrated by Muslims to mark the end of Ramadan.\\n7. Food: India\\'s cuisine varies greatly across different regions, with some states specializing in spicy curries, while others are known for their sweet desserts.\\n8. Art and Architecture: Indian art and architecture reflect the diversity of the country, with styles ranging from ancient rock-cut temples to modern concrete skyscrapers.\\n9. Music and Dance: India has a rich musical heritage, with different regions having their own unique styles of music and dance. For example, classical Carnatic music is popular in southern India, while Hindustani music is more prevalent in the north.\\n10. Literature: Indian literature is diverse, with works ranging from ancient Vedic hymns to modern-day novels and poetry.\\n\\nIn conclusion, India\\'s diversity is a reflection of its rich cultural heritage, which has been shaped by various factors such as religion, language, region, caste, festival, food, art, architecture, music, dance, literature, and more. This diversity has contributed to the country\\'s unique identity and continues to shape its culture today.'"
      ]
     },
     "execution_count": 14,
     "metadata": {},
     "output_type": "execute_result"
    }
   ],
   "source": [
    "from operator import itemgetter\n",
    "\n",
    "chain = (\n",
    "    {\n",
    "        \"context\": itemgetter(\"question\") | retriver,\n",
    "        \"question\": itemgetter(\"question\")\n",
    "    }\n",
    "    | prompt\n",
    "    | model\n",
    "    | parser\n",
    ")\n",
    "\n",
    "chain.invoke({\"question\":\"Diversity in India\"})"
   ]
  },
  {
   "cell_type": "code",
   "execution_count": 15,
   "metadata": {},
   "outputs": [
    {
     "name": "stdout",
     "output_type": "stream",
     "text": [
      "Question:what is continuity??\n",
      "Answer: Continuity refers to the uninterrupted and consistent existence or occurrence of something over time. In the context of Indian culture, it refers to the enduring character of the civilization despite major changes and upheavals throughout its history. The fact that many aspects of Harappan culture are still practised today, such as worshipping Mother Goddess and Pashupati, is an example of continuity in Indian culture. Additionally, the multistoried buildings in metropolitan cities like Mumbai and Delhi are a departure from the one-storey Harappan houses, but the basic spirit of Indian culture has continued to evolve while discarding what was becoming irrelevant in the modern age.\n",
      "\n",
      "Question:what is variety??\n",
      "Answer: In the context of Indian culture, \"variety\" refers to the diverse nature of the culture. Indian culture is characterized by a wide range of intellectual and social aspects, including languages, religions, rituals, dances, and music. The country has a long history of cultural exchange and interaction among different ethnic groups, resulting in a rich and complex cultural heritage.\n",
      "\n",
      "The text highlights the diversity of Indian culture by mentioning the presence of different languages, religions, and rituals across the country. It also notes that despite these differences, there is an underlying unity that acts as a cementing force among all Indians. This suggests that while Indian culture is characterized by a great deal of variety, it also has a strong sense of continuity and shared identity.\n",
      "\n",
      "Some examples of the variety in Indian culture include:\n",
      "\n",
      "1. Languages: India has a diverse language landscape, with over 20 official languages and numerous dialects spoken across different regions.\n",
      "2. Religions: India is home to multiple religions, including Hinduism, Islam, Christianity, Sikhism, Buddhism, and Jainism, among others.\n",
      "3. Rituals: Different regions in India have their unique rituals and customs, such as Diwali in North India, Onam in South India, and Navratri in Gujarat and Rajasthan.\n",
      "4. Dances: Indian classical dances like Bharatanatyam, Kathak, and Kuchipudi are distinct to different regions, while folk dances like Lavani from Maharashtra, Gond from Chhattisgarh, and Bhutia from Sikkim are unique to their respective cultures.\n",
      "5. Music: Indian classical music has diverse styles like Carnatic from South India and Hindustani from North India, while folk music varies across different regions, such as the Baul tradition in Bengal and the Folk music of Rajasthan.\n",
      "\n",
      "In summary, the variety in Indian culture refers to the diversity of languages, religions, rituals, dances, and music across different regions and ethnic groups in India, while still maintaining a shared identity and continuity throughout the country's history.\n",
      "\n",
      "Question:what is secular outlook??\n",
      "Answer: In the context of Indian culture, \"secular outlook\" refers to the acceptance and respect for all religions and beliefs, without any bias or prejudice towards a particular religion. It signifies the inclusive nature of Indian culture, where people of different religious backgrounds coexist peacefully and harmoniously.\n",
      "\n",
      "The term \"secular\" in this context means that Indian culture does not favor one religion over another, but rather recognizes and values the diversity of religious beliefs and practices in India. This secular outlook is reflected in the tolerance and acceptance of different religious traditions, as well as in the coexistence of people of different faiths in India.\n",
      "\n",
      "In other words, Indian culture has a \"neutral\" or \"non-partisan\" approach towards religion, recognizing that each individual has the right to follow their own beliefs and practices without fear of persecution or discrimination. This is in contrast to some other cultures where there may be an emphasis on a single dominant religion, or where religious differences are seen as a source of conflict or tension.\n",
      "\n"
     ]
    }
   ],
   "source": [
    "questions = [\n",
    "    \"what is continuity??\",\n",
    "    \"what is variety??\",\n",
    "    \"what is secular outlook??\"\n",
    "]\n",
    "\n",
    "\n",
    "for question in questions:\n",
    "    print(f\"Question:{question}\")\n",
    "    print(f\"Answer: {chain.invoke({'question':question})}\")\n",
    "    print()"
   ]
  },
  {
   "cell_type": "code",
   "execution_count": 16,
   "metadata": {},
   "outputs": [
    {
     "name": "stdout",
     "output_type": "stream",
     "text": [
      "The purpose of this PDF document appears to be a educational resource for students studying Indian culture and heritage. The document provides an overview of the meaning of culture, its components, and the distinctive features of Indian culture. It also discusses the concept of unity in diversity in the context of Indian culture.\n",
      "\n",
      "The PDF document includes a variety of topics related to Indian culture, such as:\n",
      "\n",
      "1. Definition of culture and its components (knowledge, beliefs, arts, morals, laws, customs, etc.)\n",
      "2. The meaning of material and non-material culture in India\n",
      "3. The secular character of Indian culture and its significance\n",
      "4. Distinctive features of Indian culture, such as spirituality and adaptability\n",
      "5. The concept of unity in diversity in the context of Indian culture and its significance\n",
      "\n",
      "The document also includes terminal exercises for students to practice their understanding of the topics covered. Overall, the purpose of this PDF document seems to be providing a comprehensive overview of Indian culture and heritage for educational purposes."
     ]
    }
   ],
   "source": [
    "for s in chain.stream({\"question\":\"what is purpose of this pdf\"}):\n",
    "    print(s,end=\"\",flush=True)"
   ]
  },
  {
   "cell_type": "code",
   "execution_count": null,
   "metadata": {},
   "outputs": [],
   "source": []
  }
 ],
 "metadata": {
  "kernelspec": {
   "display_name": "ragEnv",
   "language": "python",
   "name": "python3"
  },
  "language_info": {
   "codemirror_mode": {
    "name": "ipython",
    "version": 3
   },
   "file_extension": ".py",
   "mimetype": "text/x-python",
   "name": "python",
   "nbconvert_exporter": "python",
   "pygments_lexer": "ipython3",
   "version": "3.9.8"
  }
 },
 "nbformat": 4,
 "nbformat_minor": 2
}
